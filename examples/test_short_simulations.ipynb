{
 "cells": [
  {
   "cell_type": "code",
   "execution_count": 33,
   "metadata": {},
   "outputs": [
    {
     "name": "stdout",
     "output_type": "stream",
     "text": [
      "[0, 5, 7]\n",
      "<class 'list'>\n",
      "<class 'numpy.ndarray'>\n",
      "0\n",
      "[ 5  0 -2]\n"
     ]
    }
   ],
   "source": [
    "import numpy as np\n",
    "a = [0, 5, 7]\n",
    "print(a)\n",
    "print(type(a))\n",
    "\n",
    "b = np.array(a)\n",
    "print(type(b))\n",
    "\n",
    "\n",
    "forces = np.zeros_like(a)\n",
    "print(forces[2])\n",
    "\n",
    "print(5-b)"
   ]
  },
  {
   "cell_type": "code",
   "execution_count": 22,
   "metadata": {},
   "outputs": [
    {
     "name": "stdout",
     "output_type": "stream",
     "text": [
      "<zip object at 0x7fb1ca925140>\n",
      "(1, 4)\n",
      "(2, 5)\n",
      "(3, 6)\n"
     ]
    }
   ],
   "source": [
    "x = [1, 2, 3]\n",
    "y = [4, 5, 6]\n",
    "zipped = zip(x, y)\n",
    "\n",
    "print(zipped)\n",
    "\n",
    "for i in zipped:\n",
    "    print(i)\n",
    "    \n",
    "    \n"
   ]
  },
  {
   "cell_type": "code",
   "execution_count": 30,
   "metadata": {},
   "outputs": [],
   "source": [
    "import itertools\n",
    "get_ipython().magic(u'matplotlib inline')\n",
    "import numpy as np\n",
    "import matplotlib\n",
    "%matplotlib qt5\n",
    "import matplotlib.pyplot as plt\n",
    "from matplotlib import animation, rc\n",
    "from IPython.display import HTML\n",
    "import vertex_model as model\n",
    "from vertex_model.run_select import run_simulation_INM, definecolors\n",
    "import vertex_model.initialisation as init"
   ]
  },
  {
   "cell_type": "code",
   "execution_count": 68,
   "metadata": {},
   "outputs": [
    {
     "name": "stdout",
     "output_type": "stream",
     "text": [
      "0.001\n"
     ]
    },
    {
     "ename": "UnboundLocalError",
     "evalue": "local variable 'history' referenced before assignment",
     "output_type": "error",
     "traceback": [
      "\u001b[0;31m---------------------------------------------------------------------------\u001b[0m",
      "\u001b[0;31mUnboundLocalError\u001b[0m                         Traceback (most recent call last)",
      "\u001b[0;32m<ipython-input-68-27cd6c59f9f6>\u001b[0m in \u001b[0;36m<module>\u001b[0;34m\u001b[0m\n\u001b[1;32m     33\u001b[0m \u001b[0mfinal_history\u001b[0m \u001b[0;34m=\u001b[0m \u001b[0;34m[\u001b[0m\u001b[0;34m]\u001b[0m\u001b[0;34m\u001b[0m\u001b[0;34m\u001b[0m\u001b[0m\n\u001b[1;32m     34\u001b[0m \u001b[0;32mfor\u001b[0m \u001b[0mi\u001b[0m \u001b[0;32min\u001b[0m \u001b[0mrange\u001b[0m\u001b[0;34m(\u001b[0m\u001b[0mno_simulations\u001b[0m\u001b[0;34m)\u001b[0m\u001b[0;34m:\u001b[0m\u001b[0;34m\u001b[0m\u001b[0;34m\u001b[0m\u001b[0m\n\u001b[0;32m---> 35\u001b[0;31m     \u001b[0mhistory\u001b[0m \u001b[0;34m=\u001b[0m \u001b[0mrun_simulation_INM\u001b[0m\u001b[0;34m(\u001b[0m\u001b[0mparams\u001b[0m\u001b[0;34m,\u001b[0m\u001b[0;36m40\u001b[0m\u001b[0;34m,\u001b[0m\u001b[0mrand\u001b[0m\u001b[0;34m,\u001b[0m\u001b[0mtype_\u001b[0m\u001b[0;34m)\u001b[0m\u001b[0;34m\u001b[0m\u001b[0;34m\u001b[0m\u001b[0m\n\u001b[0m\u001b[1;32m     36\u001b[0m     \u001b[0mlast\u001b[0m \u001b[0;34m=\u001b[0m \u001b[0mhistory\u001b[0m\u001b[0;34m[\u001b[0m\u001b[0;34m-\u001b[0m\u001b[0;36m1\u001b[0m\u001b[0;34m]\u001b[0m \u001b[0;31m# get state of the cells object from the previous step\u001b[0m\u001b[0;34m\u001b[0m\u001b[0;34m\u001b[0m\u001b[0m\n\u001b[1;32m     37\u001b[0m     \u001b[0mprogenitor_deadcells_last\u001b[0m \u001b[0;34m=\u001b[0m \u001b[0mnp\u001b[0m\u001b[0;34m.\u001b[0m\u001b[0mwhere\u001b[0m\u001b[0;34m(\u001b[0m\u001b[0;34m(\u001b[0m\u001b[0mlast\u001b[0m\u001b[0;34m.\u001b[0m\u001b[0mempty\u001b[0m\u001b[0;34m(\u001b[0m\u001b[0;34m)\u001b[0m\u001b[0;34m)\u001b[0m \u001b[0;34m&\u001b[0m \u001b[0;34m(\u001b[0m\u001b[0mlast\u001b[0m\u001b[0;34m.\u001b[0m\u001b[0mproperties\u001b[0m\u001b[0;34m[\u001b[0m\u001b[0;34m'poisoned'\u001b[0m\u001b[0;34m]\u001b[0m\u001b[0;34m==\u001b[0m\u001b[0;36m0\u001b[0m\u001b[0;34m)\u001b[0m\u001b[0;34m)\u001b[0m\u001b[0;34m[\u001b[0m\u001b[0;36m0\u001b[0m\u001b[0;34m]\u001b[0m\u001b[0;34m\u001b[0m\u001b[0;34m\u001b[0m\u001b[0m\n",
      "\u001b[0;32m~/Desktop/vertex_model/vertex_model/run_select.py\u001b[0m in \u001b[0;36mrun_simulation_INM\u001b[0;34m(x, timend, rand, sim_type)\u001b[0m\n\u001b[1;32m    701\u001b[0m \u001b[0;34m\u001b[0m\u001b[0m\n\u001b[1;32m    702\u001b[0m \u001b[0;34m\u001b[0m\u001b[0m\n\u001b[0;32m--> 703\u001b[0;31m         \u001b[0;34m\"\"\"Target area function depending age and z nuclei position\"\"\"\u001b[0m\u001b[0;34m\u001b[0m\u001b[0;34m\u001b[0m\u001b[0m\n\u001b[0m\u001b[1;32m    704\u001b[0m         \u001b[0mproperties\u001b[0m\u001b[0;34m[\u001b[0m\u001b[0;34m'A0'\u001b[0m\u001b[0;34m]\u001b[0m \u001b[0;34m=\u001b[0m \u001b[0;34m(\u001b[0m\u001b[0mproperties\u001b[0m\u001b[0;34m[\u001b[0m\u001b[0;34m'age'\u001b[0m\u001b[0;34m]\u001b[0m\u001b[0;34m+\u001b[0m\u001b[0;36m1.0\u001b[0m\u001b[0;34m)\u001b[0m\u001b[0;34m*\u001b[0m\u001b[0;36m0.5\u001b[0m\u001b[0;34m*\u001b[0m\u001b[0;34m(\u001b[0m\u001b[0;36m1.0\u001b[0m\u001b[0;34m+\u001b[0m\u001b[0mproperties\u001b[0m\u001b[0;34m[\u001b[0m\u001b[0;34m'zposn'\u001b[0m\u001b[0;34m]\u001b[0m\u001b[0;34m**\u001b[0m\u001b[0;36m2\u001b[0m\u001b[0;34m)\u001b[0m\u001b[0;34m*\u001b[0m\u001b[0;34m(\u001b[0m\u001b[0;36m1.0\u001b[0m\u001b[0;34m-\u001b[0m\u001b[0mcells\u001b[0m\u001b[0;34m.\u001b[0m\u001b[0mproperties\u001b[0m\u001b[0;34m[\u001b[0m\u001b[0;34m'poisoned'\u001b[0m\u001b[0;34m]\u001b[0m\u001b[0;34m)\u001b[0m\u001b[0;34m\u001b[0m\u001b[0;34m\u001b[0m\u001b[0m\n\u001b[1;32m    705\u001b[0m \u001b[0;34m\u001b[0m\u001b[0m\n",
      "\u001b[0;31mUnboundLocalError\u001b[0m: local variable 'history' referenced before assignment"
     ]
    }
   ],
   "source": [
    "# Run type 2\n",
    "\n",
    "\n",
    "#### Parameter used in the simulation are picked up form Gobal_Constant.py file\n",
    "\n",
    "### Choose simulation to run\n",
    "# def run_simulation_INM(x, timend,rand, type):\n",
    "#     sim_type 0 simulation_with_division_clone (no differentiation rate)\n",
    "#     sim_type 1 simulation_with_division_clone_differentiation (all differentiation rate)\n",
    "#     sim_type 2 simulation_with_division_clone_differenciation_3stripes (2 population with and without diffentiation rate)\n",
    "#     sim_type 3 simulation_with_division_clone_whole_tissue_differenciation (differentiation rate everywhere)\n",
    "\n",
    "#use type 2 and parameter i=4 for floor plate\n",
    "import numpy as np\n",
    "type_=4\n",
    "L_point = [-.4, -0.2,-0.3, -0.05, 0.075, 0.15]\n",
    "G_point = [0.14, 0.12, 0.1, 0.065, 0.04, 0.02]\n",
    "i=4\n",
    "G=G_point[i]\n",
    "L=L_point[i]\n",
    "K=1.0\n",
    "#run simulation with the choosen parameters ; line 521 in run_select.py\n",
    "rand =  np.random.RandomState() #random number to choose Lambda\n",
    "params = [K,G,L]  # K=x[0],G=x[1],L=x[2]\n",
    "# Commented by Rebeca:\n",
    "#history = run_simulation_INM(params,300,rand,type_) #return history = a list of length 300; simulation time = 300\n",
    "# history = a list of cells objects at all timepoints in the simulation\n",
    "\n",
    "# Run simulation multiple times - (20/04)\n",
    "no_simulations = 1\n",
    "Cell_cycle_lengths_progenitors = []\n",
    "Cell_cycle_lengths_pois = []\n",
    "final_history = []\n",
    "for i in range(no_simulations):\n",
    "    history = run_simulation_INM(params,40,rand,type_)  \n",
    "    last = history[-1] # get state of the cells object from the previous step\n",
    "    progenitor_deadcells_last = np.where((last.empty()) & (last.properties['poisoned']==0))[0]\n",
    "    differentiated_last = np.where((last.empty()) & (last.properties['poisoned']==1))[0]\n",
    "    correct_cell_cycle_lengths = last.properties['age'][progenitor_deadcells_last]\n",
    "    pois_cell_cycle_lengths = last.properties['age'][differentiated_last]\n",
    "    \n",
    "\n",
    "    #new_cell_cycle_lengths = last.properties['age'][deadcells_last] # cell cycle lengths = age of deadcells\n",
    "    Cell_cycle_lengths_progenitors = np.append(Cell_cycle_lengths_progenitors, correct_cell_cycle_lengths)\n",
    "    Cell_cycle_lengths_pois = np.append(Cell_cycle_lengths_pois, pois_cell_cycle_lengths)\n",
    "    final_history = np.append(final_history, history) # get a final history array\n",
    "    \n"
   ]
  },
  {
   "cell_type": "code",
   "execution_count": 65,
   "metadata": {},
   "outputs": [
    {
     "name": "stdout",
     "output_type": "stream",
     "text": [
      "40\n",
      "[0.         0.         0.         ... 0.99322569 0.99986978 0.99980213]\n",
      "3204\n"
     ]
    }
   ],
   "source": [
    "print(len(final_history))\n",
    "print(last.properties['zposn'])\n",
    "print(len(last.properties['zposn']))\n",
    "\n",
    "plt.hist(last.properties['zposn'], bins = 70)\n",
    "plt.show()"
   ]
  },
  {
   "cell_type": "code",
   "execution_count": 60,
   "metadata": {},
   "outputs": [
    {
     "name": "stdout",
     "output_type": "stream",
     "text": [
      "dict_keys(['K', 'Gamma', 'P', 'boundary_P', 'Lambda', 'Lambda_boundary', 'age', 'parent_group', 'parent', 'ageingrate', 'ids_division', 'force_x', 'force_y', 'T1_angle_pD', 'Division_angle_pD', 'zposn', 'A0', 'ids_division_1', 'ids_division_02', 'poisoned', 'T1_angle_pMN', 'Division_angle_pMN', 'deleted_edges', 'edges_division', 'T1_edge', 'differentiation_rate'])\n"
     ]
    }
   ],
   "source": [
    "\n",
    "\n",
    "print((last.properties.keys()))\n",
    "\n",
    "\n",
    "\n"
   ]
  }
 ],
 "metadata": {
  "kernelspec": {
   "display_name": "Python 3",
   "language": "python",
   "name": "python3"
  },
  "language_info": {
   "codemirror_mode": {
    "name": "ipython",
    "version": 3
   },
   "file_extension": ".py",
   "mimetype": "text/x-python",
   "name": "python",
   "nbconvert_exporter": "python",
   "pygments_lexer": "ipython3",
   "version": "3.8.5"
  }
 },
 "nbformat": 4,
 "nbformat_minor": 4
}
